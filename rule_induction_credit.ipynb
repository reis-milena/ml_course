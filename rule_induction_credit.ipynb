{
 "cells": [
  {
   "cell_type": "markdown",
   "metadata": {},
   "source": [
    "## Rule Induction"
   ]
  },
  {
   "cell_type": "code",
   "execution_count": 1,
   "metadata": {},
   "outputs": [],
   "source": [
    "#import pandas as pd\n",
    "#import numpy as np\n",
    "import seaborn as sns\n",
    "import matplotlib.pyplot as plt\n",
    "import plotly.express as px\n",
    "#import pickle"
   ]
  },
  {
   "cell_type": "code",
   "execution_count": 2,
   "metadata": {},
   "outputs": [],
   "source": [
    "import Orange"
   ]
  },
  {
   "cell_type": "markdown",
   "metadata": {},
   "source": [
    "### Risk data"
   ]
  },
  {
   "cell_type": "code",
   "execution_count": 6,
   "metadata": {},
   "outputs": [],
   "source": [
    "risk_data = Orange.data.Table('rule_risk_data.csv')"
   ]
  },
  {
   "cell_type": "code",
   "execution_count": 10,
   "metadata": {},
   "outputs": [
    {
     "data": {
      "text/plain": [
       "[[ruim, alta, nenhuma, 0_15 | alto],\n",
       " [desconhecida, alta, nenhuma, 15_35 | alto],\n",
       " [desconhecida, baixa, nenhuma, 15_35 | moderado],\n",
       " [desconhecida, baixa, nenhuma, acima_35 | alto],\n",
       " [desconhecida, baixa, nenhuma, acima_35 | baixo],\n",
       " ...\n",
       "]"
      ]
     },
     "execution_count": 10,
     "metadata": {},
     "output_type": "execute_result"
    }
   ],
   "source": [
    "risk_data"
   ]
  },
  {
   "cell_type": "code",
   "execution_count": 11,
   "metadata": {},
   "outputs": [
    {
     "data": {
      "text/plain": [
       "[historia, divida, garantias, renda | risco]"
      ]
     },
     "execution_count": 11,
     "metadata": {},
     "output_type": "execute_result"
    }
   ],
   "source": [
    "risk_data.domain"
   ]
  },
  {
   "cell_type": "code",
   "execution_count": 12,
   "metadata": {},
   "outputs": [],
   "source": [
    "import Orange.classification\n",
    "\n",
    "\n",
    "cn2 = Orange.classification.rules.CN2Learner()\n",
    "rules = cn2(risk_data)"
   ]
  },
  {
   "cell_type": "code",
   "execution_count": 13,
   "metadata": {},
   "outputs": [
    {
     "name": "stdout",
     "output_type": "stream",
     "text": [
      "IF renda==0_15 THEN risco=alto \n",
      "IF historia==boa AND divida!=alta THEN risco=baixo \n",
      "IF historia==boa AND garantias!=nenhuma THEN risco=baixo \n",
      "IF historia==boa AND renda!=15_35 THEN risco=baixo \n",
      "IF historia==boa THEN risco=moderado \n",
      "IF divida==alta THEN risco=alto \n",
      "IF historia!=desconhecida THEN risco=moderado \n",
      "IF garantias==adequada THEN risco=baixo \n",
      "IF renda==15_35 THEN risco=moderado \n",
      "IF historia==desconhecida THEN risco=baixo \n",
      "IF TRUE THEN risco=alto \n"
     ]
    }
   ],
   "source": [
    "for rule in rules.rule_list:\n",
    "    print(rule)"
   ]
  },
  {
   "cell_type": "code",
   "execution_count": 15,
   "metadata": {},
   "outputs": [
    {
     "data": {
      "text/plain": [
       "array([1, 0], dtype=int64)"
      ]
     },
     "execution_count": 15,
     "metadata": {},
     "output_type": "execute_result"
    }
   ],
   "source": [
    "#case1: history: good, debt: high, guarantee: none, income: >35\n",
    "#                0            0                 1           2\n",
    "\n",
    "#case2: history: bad, debt: high, guarantee: adequate, income: <15\n",
    "#                2            0                 0           0\n",
    "\n",
    "prediction = rules([['boa','alta','nenhuma','acima_35'],\n",
    "                   ['ruim','alta','adequada','0_15']])\n",
    "prediction"
   ]
  },
  {
   "cell_type": "code",
   "execution_count": 17,
   "metadata": {},
   "outputs": [
    {
     "data": {
      "text/plain": [
       "('alto', 'baixo', 'moderado')"
      ]
     },
     "execution_count": 17,
     "metadata": {},
     "output_type": "execute_result"
    }
   ],
   "source": [
    "risk_data.domain.class_var.values"
   ]
  },
  {
   "cell_type": "code",
   "execution_count": 19,
   "metadata": {},
   "outputs": [
    {
     "name": "stdout",
     "output_type": "stream",
     "text": [
      "baixo\n",
      "alto\n"
     ]
    }
   ],
   "source": [
    "for i in prediction:\n",
    "    print(risk_data.domain.class_var.values[i])"
   ]
  },
  {
   "cell_type": "markdown",
   "metadata": {},
   "source": [
    "### Credit data"
   ]
  },
  {
   "cell_type": "code",
   "execution_count": 20,
   "metadata": {},
   "outputs": [],
   "source": [
    "credit_data = Orange.data.Table('rule_credit_data.csv')"
   ]
  },
  {
   "cell_type": "code",
   "execution_count": 22,
   "metadata": {},
   "outputs": [
    {
     "data": {
      "text/plain": [
       "([income, age, loan | default],\n",
       " [[66155.9, 59.017, 8106.53 | 0],\n",
       "  [34415.2, 48.1172, 6564.75 | 0],\n",
       "  [57317.2, 63.108, 8020.95 | 0],\n",
       "  [42709.5, 45.752, 6103.64 | 0],\n",
       "  [66952.7, 18.5843, 8770.1 | 1],\n",
       "  ...\n",
       " ])"
      ]
     },
     "execution_count": 22,
     "metadata": {},
     "output_type": "execute_result"
    }
   ],
   "source": [
    "credit_data.domain , credit_data"
   ]
  },
  {
   "cell_type": "code",
   "execution_count": 23,
   "metadata": {},
   "outputs": [],
   "source": [
    "import Orange.evaluation\n",
    "\n",
    "\n",
    "split_data = Orange.evaluation.testing.sample(credit_data, n = 0.25)"
   ]
  },
  {
   "cell_type": "code",
   "execution_count": 24,
   "metadata": {},
   "outputs": [
    {
     "data": {
      "text/plain": [
       "([[41994, 36.1928, 6644.34 | 0],\n",
       "  [42889.3, 57.5067, 6340.71 | 0],\n",
       "  [62724.6, 39.8354, 9255.14 | 0],\n",
       "  [34796, 58.4879, 443.667 | 0],\n",
       "  [29672.6, 51.0198, 607.909 | 0],\n",
       "  ...\n",
       " ],\n",
       " [[55704.8, 48.5166, 5594.33 | 0],\n",
       "  [56256, 22.1605, 5452.24 | 0],\n",
       "  [67730.4, 26.3031, 8881.58 | 1],\n",
       "  [42750, 56.4191, 4626.54 | 0],\n",
       "  [26181.2, 42.663, 2618.97 | 0],\n",
       "  ...\n",
       " ])"
      ]
     },
     "execution_count": 24,
     "metadata": {},
     "output_type": "execute_result"
    }
   ],
   "source": [
    "split_data"
   ]
  },
  {
   "cell_type": "code",
   "execution_count": 26,
   "metadata": {},
   "outputs": [],
   "source": [
    "credit_data_test = split_data[0]\n",
    "credit_data_training = split_data[1]"
   ]
  },
  {
   "cell_type": "code",
   "execution_count": 27,
   "metadata": {},
   "outputs": [
    {
     "data": {
      "text/plain": [
       "(500, 1500)"
      ]
     },
     "execution_count": 27,
     "metadata": {},
     "output_type": "execute_result"
    }
   ],
   "source": [
    "len(credit_data_test), len(credit_data_training)"
   ]
  },
  {
   "cell_type": "code",
   "execution_count": 28,
   "metadata": {},
   "outputs": [],
   "source": [
    "cn2 = Orange.classification.rules.CN2Learner()\n",
    "rules = cn2(credit_data_training)"
   ]
  },
  {
   "cell_type": "code",
   "execution_count": 29,
   "metadata": {},
   "outputs": [
    {
     "name": "stdout",
     "output_type": "stream",
     "text": [
      "IF age>=34.9257164876908 THEN default=0 \n",
      "IF loan<=2495.13299137587 AND income>=20145.9885970689 THEN default=0 \n",
      "IF loan<=4265.17370408717 AND income>=30075.264924671497 THEN default=0 \n",
      "IF loan>=7708.31562497011 AND loan>=9698.582169129 THEN default=1 \n",
      "IF loan>=7708.31562497011 AND loan>=9595.28628892989 THEN default=0 \n",
      "IF loan>=7708.31562497011 AND age>=21.4227129220963 THEN default=1 \n",
      "IF income>=57787.565658800304 AND loan>=8092.982779946221 THEN default=1 \n",
      "IF income>=57787.565658800304 THEN default=0 \n",
      "IF loan>=6241.27050834808 THEN default=1 \n",
      "IF loan<=4665.58102065705 AND income>=42990.9828281961 THEN default=0 \n",
      "IF income>=42236.4560933784 AND income>=50527.5841732509 THEN default=0 \n",
      "IF loan>=5836.56338145928 THEN default=1 \n",
      "IF income>=42236.4560933784 AND income>=45971.133494749694 THEN default=0 \n",
      "IF age>=27.441609795671 AND income>=30187.0918646455 THEN default=1 \n",
      "IF loan>=3105.4430213977303 AND age>=27.441609795671 THEN default=1 \n",
      "IF age<=24.3714581453241 AND age>=24.3714581453241 THEN default=0 \n",
      "IF loan>=3105.4430213977303 AND income>=43957.35058235 THEN default=1 \n",
      "IF income>=42236.4560933784 THEN default=0 \n",
      "IF income>=29761.046012863502 THEN default=1 \n",
      "IF income>=29724.4768752716 THEN default=0 \n",
      "IF age>=34.7410444347188 THEN default=0 \n",
      "IF loan>=2971.00330971188 THEN default=1 \n",
      "IF income>=22089.8374845274 THEN default=0 \n",
      "IF income<=20113.2534933276 THEN default=1 \n",
      "IF income<=20897.4266937003 THEN default=1 \n",
      "IF income<=21412.3086119071 THEN default=1 \n",
      "IF TRUE THEN default=0 \n"
     ]
    }
   ],
   "source": [
    "for rule in rules.rule_list:\n",
    "    print(rule)"
   ]
  },
  {
   "cell_type": "code",
   "execution_count": 33,
   "metadata": {},
   "outputs": [
    {
     "data": {
      "text/plain": [
       "<Orange.evaluation.testing.Results at 0x238332eb010>"
      ]
     },
     "execution_count": 33,
     "metadata": {},
     "output_type": "execute_result"
    }
   ],
   "source": [
    "prediction = Orange.evaluation.testing.TestOnTestData(credit_data_training,\n",
    "                                                      credit_data_test,\n",
    "                                                      [lambda testdata: rules])\n",
    "prediction"
   ]
  },
  {
   "cell_type": "code",
   "execution_count": 34,
   "metadata": {},
   "outputs": [
    {
     "data": {
      "text/plain": [
       "array([0.982])"
      ]
     },
     "execution_count": 34,
     "metadata": {},
     "output_type": "execute_result"
    }
   ],
   "source": [
    "Orange.evaluation.CA(prediction) #classification accuracy (ca)"
   ]
  }
 ],
 "metadata": {
  "kernelspec": {
   "display_name": "Python 3",
   "language": "python",
   "name": "python3"
  },
  "language_info": {
   "codemirror_mode": {
    "name": "ipython",
    "version": 3
   },
   "file_extension": ".py",
   "mimetype": "text/x-python",
   "name": "python",
   "nbconvert_exporter": "python",
   "pygments_lexer": "ipython3",
   "version": "3.11.0"
  }
 },
 "nbformat": 4,
 "nbformat_minor": 2
}
