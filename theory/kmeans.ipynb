{
 "cells": [
  {
   "cell_type": "markdown",
   "metadata": {},
   "source": [
    "# Clustering\n",
    "\n",
    "Examples:\n",
    "\n",
    "- Markets segmentation\n",
    "\n",
    "- Groups of clients\n",
    "\n",
    "- Groups of documents\n",
    "\n",
    "- Clients profile\n",
    "\n",
    "- Social Media analysis\n",
    "\n",
    "Unsupervised learning.\n",
    "\n",
    "Algorithm learns the relationship between data.\n",
    "\n",
    "Identifies/sets when one group end and the other start.\n",
    "\n",
    "Nearest mean: intragroup similarities but differences between groups\n",
    "\n",
    "# K-Means (Lloyd Algorithm)\n",
    "\n",
    "1) Start randomly the center of each cluster - centroid\n",
    "\n",
    "2) For each data point, calculate the distance to each centroid and select the closest one\n",
    "\n",
    "3) Calculate the average/mean of all points connected to each centroid and generate a new centroid.\n",
    "\n",
    "4) Repeat 2. and 3. ...\n",
    "\n",
    "K: number of groups/centroids\n",
    "\n",
    "- Euclidean distance: DE(x,y) = $\\sqrt{\\sum_i^p(x_i-y_i)^2}$\n",
    "\n",
    "The start is very important and can interfer on the definition of each cluster.\n",
    "\n"
   ]
  },
  {
   "cell_type": "markdown",
   "metadata": {},
   "source": [
    "## K-means ++\n",
    "\n",
    "Alternative to solve the start problem.\n",
    "\n",
    "- Reduce probability of bad start\n",
    "\n",
    "- Selects first centroids far away from each other\n",
    "\n",
    "- First centroid is randomly chosen but others are setted far away\n",
    "\n",
    "## Number of clusters\n",
    "\n",
    "- Previous knowledge of number of clusters needed\n",
    "\n",
    "- Cluster = $\\sqrt\\frac{N}{2}$, where N is the number of data/row/register\n",
    "\n",
    "- Elbow method: tries several values for k and selects the best\n",
    "\n",
    "### Elbow Method\n",
    "\n",
    "- Within-Cluster Sum of Squares (WCSS): $\\sum_{P_i \\text{in Cluster X}}distance(P_i,C_X)^2$, where C: centroid of cluster X\n",
    "\n",
    "- Higher WCSS, worse\n",
    "\n",
    "- Very small WCSS is bad too\n",
    "\n",
    "<img src=\"elbow.png\"  style=\"width: 500px;\"/>"
   ]
  }
 ],
 "metadata": {
  "language_info": {
   "name": "python"
  }
 },
 "nbformat": 4,
 "nbformat_minor": 2
}
