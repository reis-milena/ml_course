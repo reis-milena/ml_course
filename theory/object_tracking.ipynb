{
 "cells": [
  {
   "cell_type": "markdown",
   "metadata": {},
   "source": [
    "# Object tracking\n",
    "\n",
    "- Faster than detection algorithm\n",
    "\n",
    "First identifies the object, it assumes the next step and then will follow the next steps.\n",
    "\n",
    "- That way does not work like the detection algorithm that search the hole image to find the object\n",
    "\n",
    "It will only search on the space assumed for the next step.\n",
    "\n",
    "## Discriminative Correlation Filter with Channel and Spatial Reliability - CSRT\n",
    "\n",
    "1. Training patch\n",
    "\n",
    "2. Hog\n",
    "\n",
    "3. Object Probability  of the next step with Markov random test\n",
    "\n",
    "4. Overlayed patch with confiability map"
   ]
  }
 ],
 "metadata": {
  "language_info": {
   "name": "python"
  }
 },
 "nbformat": 4,
 "nbformat_minor": 2
}
