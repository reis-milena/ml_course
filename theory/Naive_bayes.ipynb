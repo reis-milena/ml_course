{
 "cells": [
  {
   "cell_type": "markdown",
   "metadata": {},
   "source": [
    "## Bayesian learning -  Naive Bayes Classifier\n",
    "\n",
    "- Probabilistic aproach\n",
    "- Use examples: spam filter, emotion mining, document separation\n",
    "- Likelihood table\n",
    "\n",
    "Usually applied for text classification."
   ]
  },
  {
   "cell_type": "markdown",
   "metadata": {},
   "source": [
    "### Likelihood table\n",
    "\n",
    "![](naive_bayes_table.png)\n",
    "\n",
    "This person doesn't play golf."
   ]
  },
  {
   "cell_type": "markdown",
   "metadata": {},
   "source": [
    "### Laplace correction (probability zero)\n",
    "\n",
    "Usually for small data.\n",
    "\n",
    "Correction: add 1 as new occurrence, so it's not zero anymore.\n",
    "\n",
    "<img src=\"laplace_correction.png\"  style=\"width: 650px;\"/>\n"
   ]
  },
  {
   "cell_type": "markdown",
   "metadata": {},
   "source": [
    "### Radius: Marginal Likelihood and Posterior Probability\n",
    "\n",
    "Marginal likelihood is the one around the radius: select a radius of our own choice and draw a circle around our point of observation (*probabilidade a priori*).\n",
    "\n",
    "<img src=\"posterior_probability.png\"  style=\"width: 500px;\"/>"
   ]
  },
  {
   "cell_type": "markdown",
   "metadata": {},
   "source": [
    "### Pros VS cons of Naive Bayes\n",
    "\n",
    "Pros:\n",
    "- Fast\n",
    "- Easy understanding\n",
    "- Work well with high dimenstions (several atributes)\n",
    "- Good performance with small data\n",
    "\n",
    "Cons:\n",
    "- Consider that atributes are **independent** (which isn't always true)\n"
   ]
  }
 ],
 "metadata": {
  "language_info": {
   "name": "python"
  }
 },
 "nbformat": 4,
 "nbformat_minor": 2
}
