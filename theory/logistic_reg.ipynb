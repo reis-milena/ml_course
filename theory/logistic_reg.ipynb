{
 "cells": [
  {
   "cell_type": "markdown",
   "metadata": {},
   "source": [
    "## Logistic Regression (logit)\n",
    "\n",
    "<u>Predicts the probability</u> of the outcome conditioned to explained variables. So if the desirable result is just classification, it can be said to be probability of result = 1 is > 0.5, so the predicted class is 1.\n",
    "\n",
    "- Sigmoid function\n",
    "\n",
    "Objective of finding the best line that fits the sigmoid function."
   ]
  },
  {
   "cell_type": "markdown",
   "metadata": {},
   "source": [
    "### Sigmoid Function\n",
    "\n",
    "$p = \\frac{1}{1+e^{-y}}$ and $p \\in [0,1]$\n",
    "\n",
    "Remember regression: $y = \\beta_o +\\beta_1*x$\n",
    "\n",
    "Applying Sigmoid on regression, we have the **Logit** transformation:\n",
    "\n",
    "$\\log(\\frac{p}{1-p}) = \\beta_o +\\beta_1*x$"
   ]
  },
  {
   "cell_type": "markdown",
   "metadata": {},
   "source": [
    "- It's important to encode categorical variable!"
   ]
  },
  {
   "cell_type": "markdown",
   "metadata": {},
   "source": [
    "### Gradient descent\n",
    "\n",
    "Minimization of error to each parameter $\\beta$"
   ]
  }
 ],
 "metadata": {
  "language_info": {
   "name": "python"
  }
 },
 "nbformat": 4,
 "nbformat_minor": 2
}
