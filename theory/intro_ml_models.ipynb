{
 "cells": [
  {
   "cell_type": "markdown",
   "metadata": {},
   "source": [
    "## Machine learning\n",
    "\n",
    "Mathematical method for training algorithms\n",
    "\n",
    "OBS: Neural network - Type of machine learning\n",
    "\n",
    "### Prediction methods\n",
    "- Classification\n",
    "- Regression\n",
    "\n",
    "### Descriptive methods\n",
    "- Association\n",
    "- Clustering\n",
    "- Deviation detection (outliers)\n",
    "- Sequence pattern\n",
    "- Summarize\n",
    "\n",
    "### Surpevised\n",
    "- Classification\n",
    "- Regression\n",
    "\n",
    "Test data and then data to be classified\n",
    "\n",
    "### Unsupervised\n",
    "- Association\n",
    "- Clustering\n",
    "- Deviation detection (outliers)\n",
    "- Sequence pattern\n",
    "- Summarize\n",
    "\n",
    "Model sets authomatically the pattern\n",
    "\n",
    "### Reinforcement learning\n",
    "Learns from interactions and experience (cause and effect)"
   ]
  },
  {
   "cell_type": "markdown",
   "metadata": {},
   "source": [
    "### Algorithm evaluation\n",
    "\n",
    "For supervised models, it's important to analise the success % of the test data."
   ]
  }
 ],
 "metadata": {
  "language_info": {
   "name": "python"
  }
 },
 "nbformat": 4,
 "nbformat_minor": 2
}
