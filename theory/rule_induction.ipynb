{
 "cells": [
  {
   "cell_type": "markdown",
   "metadata": {},
   "source": [
    "## Rule Induction\n",
    "\n",
    "### One R (rule)\n",
    "\n",
    "- Simple algorithm\n",
    "- One tribute do all the work: choose only one atribute\n",
    "\n",
    "The atribute choosen is the one with smallest error"
   ]
  },
  {
   "cell_type": "markdown",
   "metadata": {},
   "source": [
    "Error calculus example\n",
    "\n",
    "<img src=\"ri_oner.png\"  style=\"width: 700px;\"/>"
   ]
  },
  {
   "cell_type": "markdown",
   "metadata": {},
   "source": [
    "### PRISM\n",
    "\n",
    "The atribute choosen is the one with the higher coverage. So to construct the entire rule, each part the atribute choose is according with coverage"
   ]
  },
  {
   "cell_type": "markdown",
   "metadata": {},
   "source": [
    "### Decision tree VS Rule induction\n",
    "\n",
    "Both:\n",
    "- Easy understanding\n",
    "- It needs low storage/memory space\n",
    "\n",
    "Rule:\n",
    "- Slower\n",
    "- In general, rules do not generate better models/results\n"
   ]
  }
 ],
 "metadata": {
  "language_info": {
   "name": "python"
  }
 },
 "nbformat": 4,
 "nbformat_minor": 2
}
