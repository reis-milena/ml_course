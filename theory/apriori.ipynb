{
 "cells": [
  {
   "cell_type": "markdown",
   "metadata": {},
   "source": [
    "# Association Rule\n",
    "\n",
    "Analyze databases and find association between them.\n",
    "\n",
    "Association format: **if-then**\n",
    "\n",
    "Use example:\n",
    "\n",
    "- Market shelfs (ex: beer and diaper - for men at the weekend)\n",
    "\n",
    "- Sale/promotion of items sold together\n",
    "\n",
    "- Plan catalog of stores and sale flyer\n",
    "\n",
    "- Dropping out of college (if have bad grades then will left)\n",
    "\n",
    "- Product recommendation (ex: next movie)"
   ]
  },
  {
   "cell_type": "markdown",
   "metadata": {},
   "source": [
    "## Apriori Algorithm\n",
    "\n",
    "Step 1: Find all sets of items with **support** higher or equal to the minimum specified by the user\n",
    "\n",
    "Step 2: From the sets of frequent items, find association rules with **confidence** factor higher or equal to the value specified by the user\n",
    "\n",
    "### Support\n",
    "\n",
    "Percentage of transactions of this item. If there are a lot of items, then you need to lower your minimum support value.\n",
    "\n",
    "**Support(X) = $\\frac{\\text{Number of transactions containing X}}{\\text{Total number of transactions}}$**\n",
    "\n",
    "- As the user defines the support value, the algorithm will select items with support(X) >= support value pre-defined (or minimum support).\n",
    "\n",
    "First: Calculate support for 1 itemset\n",
    "\n",
    "Second: Support for 2 itemsets, already filtered for items with support(X) >= support value pre-defined\n",
    "\n",
    "Third: Support for 3 itemsets, already filtered for itemset with support(X,Y) >= support value pre-defined\n",
    "\n",
    "..."
   ]
  },
  {
   "cell_type": "markdown",
   "metadata": {},
   "source": [
    "### Confidence\n",
    "\n",
    "From the itemset with support >= minimum support, find association rule.\n",
    "\n",
    "**Confidence(X->Y) = $\\frac{\\text{Number of transaction containing X and Y}}{\\text{Total number of transaction containing X}}$**\n",
    "\n",
    "Itemset {X,Y} has confidence X->Y and Y->X ('if X then Y' and 'if Y then X').\n",
    "\n",
    "Itemset {X,Y,Z} has confidence 'X and Y->Z', 'X and Z->Y', 'Y and Z->X', 'X->Y', 'X->Z', 'Y->X', 'Y->Z', 'Z->X' and 'Z->Y' (However, it's possible that some of 2 itemset if-then confidence have already been filtered when calculating confidence).\n"
   ]
  },
  {
   "cell_type": "markdown",
   "metadata": {},
   "source": [
    "### Lift\n",
    "\n",
    "Select best association rule (if-then) that have been through support and confidence steps.\n",
    "\n",
    "**Lift (X->Y) = $\\frac{\\text{Confidence (X->Y)}}{\\text{Support(Y)}}$**\n",
    "\n",
    "Ex: Lift(X->Y)=2 means \"Clients who buy X have **twice** the chances to buy Y\"\n",
    "\n",
    "- Lift will set a value for each rule and the best association rule is the one with higher lift.\n",
    "\n",
    "- Lift allows you to order association rules."
   ]
  }
 ],
 "metadata": {
  "language_info": {
   "name": "python"
  }
 },
 "nbformat": 4,
 "nbformat_minor": 2
}
