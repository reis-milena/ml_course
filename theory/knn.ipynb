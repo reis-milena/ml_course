{
 "cells": [
  {
   "cell_type": "markdown",
   "metadata": {},
   "source": [
    "## kNN - K Nearest Neighbour\n",
    "\n",
    "- Most machine learning construct a model after training and the training data is discarted\n",
    "- However kNN saves the training data\n",
    "\n",
    "This method do not generate model, it only calculates the distance (lazy method)\n",
    "\n",
    "The predicition only is done when new data needs to be classified (lazy method)."
   ]
  },
  {
   "cell_type": "markdown",
   "metadata": {},
   "source": [
    "### Distance\n",
    "\n",
    "Euclidean distance: $DE(x,y) = \\sqrt{\\sum^p_i (x_i-y_i)^2}$"
   ]
  },
  {
   "cell_type": "markdown",
   "metadata": {},
   "source": [
    "For categorical variable it's necessary to encode classes However, for the distance calculus you **can not consdider the value of the encoded variable but only if they are equal or not** (if equal the difference is 0 and if different the distance is 1)."
   ]
  },
  {
   "cell_type": "markdown",
   "metadata": {},
   "source": [
    "### Standardization and Normalization\n",
    "\n",
    "Variables must be on the same scale!!!\n",
    "\n",
    "**Normalization**: $x = \\frac{x - \\min{x}}{\\max{x}-\\min{x}}$\n",
    "\n",
    "**Standardization**: $x = \\frac{x-mean(x)}{sd(x)}$\n",
    "\n",
    "Obs: Standardization is more common."
   ]
  },
  {
   "cell_type": "markdown",
   "metadata": {},
   "source": [
    "### More about kNN\n",
    "\n",
    "- Simple algorithm but powerfull\n",
    "- Preferable when the relationship between variables is complex\n",
    "- When k is <u>small</u>: outliers can hurt/worsen the result\n",
    "- When k is <u>big</u>: tendency to overfit\n",
    "- **Default values for k: 3 or 5**\n",
    "- Slow for prediction\n",
    "- Other distances can be used:\n",
    "    - Pearson Coefficient\n",
    "    - Tanimoto\n",
    "    - City Block"
   ]
  }
 ],
 "metadata": {
  "language_info": {
   "name": "python"
  }
 },
 "nbformat": 4,
 "nbformat_minor": 2
}
