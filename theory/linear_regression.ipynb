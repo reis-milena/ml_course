{
 "cells": [
  {
   "cell_type": "markdown",
   "metadata": {},
   "source": [
    "# Linear Regression\n",
    "\n",
    "## Covariance\n",
    "\n",
    "Cov(x,y) = $\\frac{\\sum(x_i-\\bar{x})*(y_i-\\bar{y})}{n-1}$\n",
    "\n",
    "- Cov =0, variables whose covariance is zero are called uncorrelated, aka, X and Y are independent random variables, then their covariance is zero\n",
    "\n",
    "## Correlation Coefficient\n",
    "\n",
    "Pearson Corr = $\\frac{Cov(x,y)}{Std(x)*Std(y)}$ and Corr $\\in [-1,1]$\n",
    "\n",
    "## Coefficient of Determination (R²)\n",
    "\n",
    "$R^2 = 1-\\frac{SS_{res}}{SS_{total}}$ where ${\\displaystyle SS_{\\text{res}}+SS_{\\text{reg}}=SS_{\\text{tot}}}$\n",
    "\n",
    "- ${\\displaystyle SS_{\\text{res}}=\\sum _{i}(y_{i}-f_{i})^{2}=\\sum _{i}e_{i}^{2}\\,}$\n",
    "\n",
    "- ${\\displaystyle SS_{\\text{tot}}=\\sum _{i}(y_{i}-{\\bar {y}})^{2}}$\n",
    "\n",
    "$R^2 \\in [0,1]$\n",
    "\n",
    "- The R^2 value means the percentage that the model or that the independent variable can explain the dependent variable\n",
    "\n"
   ]
  },
  {
   "cell_type": "markdown",
   "metadata": {},
   "source": [
    "## Linear Regression\n",
    "\n",
    "Model the relationship between the dependent variable **Y** and the independent variables **X**\n",
    "\n",
    "### Simple linear regression: one X\n",
    "\n",
    "$Y = B_0 +B_1*X_1 + \\epsilon$\n",
    "\n",
    "- B_0: constant\n",
    "\n",
    "- B_1: inclination/tendency\n",
    "\n",
    "- Objective to **minimize error**\n",
    "\n",
    "How solve:\n",
    "\n",
    "- Linear Algebra\n",
    "\n",
    "- Gradient Discent\n",
    "\n",
    "#### Mean Square Error - MSE\n",
    "\n",
    "MSE = $\\frac{1}{N}\\sum^N_{i=1}(f_i-y_i)^2$\n",
    "\n",
    "- Penalize biggest errors\n",
    "\n",
    "### Multiple Linear Regression: multiple X\n",
    "\n",
    "$Y = B_0 +B_1*X_1 +B_2*X_2+ ... +B_N*X_N+ \\epsilon$"
   ]
  },
  {
   "cell_type": "markdown",
   "metadata": {},
   "source": [
    "## Error Metrics\n",
    "\n",
    "Objective to always minize error.\n",
    "\n",
    "### Mean Absolute Error - MAE\n",
    "\n",
    "MAE = $\\frac{1}{N}\\sum^n_{i=1}|y_i-\\hat{y}_i|$\n",
    "\n",
    "### Mean Square Error - MSE\n",
    "\n",
    "MAE = $\\frac{1}{N}\\sum^n_{i=1}(y_i-\\hat{y}_i)^2$\n",
    "\n",
    "### Root Mean Square Error - RMSE\n",
    "\n",
    "RMSE = $\\sqrt{\\frac{1}{N}\\sum^n_{i=1}(y_i-\\hat{y}_i)^2}$"
   ]
  }
 ],
 "metadata": {
  "language_info": {
   "name": "python"
  }
 },
 "nbformat": 4,
 "nbformat_minor": 2
}
