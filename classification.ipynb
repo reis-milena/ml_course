{
 "cells": [
  {
   "cell_type": "markdown",
   "metadata": {},
   "source": [
    "## Classification Model - Supervised\n",
    "\n",
    "#### Step 1\n",
    "\n",
    "Test data with all atributes, including the one to be predicted\n",
    "\n",
    "Model learns with the data\n",
    "\n",
    "#### Step 2\n",
    "\n",
    "Apply to the model the data to be predicted"
   ]
  }
 ],
 "metadata": {
  "language_info": {
   "name": "python"
  }
 },
 "nbformat": 4,
 "nbformat_minor": 2
}
